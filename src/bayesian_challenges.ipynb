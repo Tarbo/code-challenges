{
 "cells": [
  {
   "cell_type": "code",
   "execution_count": 3,
   "metadata": {},
   "outputs": [
    {
     "name": "stdout",
     "output_type": "stream",
     "text": [
      "0.009419930589985125\n"
     ]
    }
   ],
   "source": [
    "# P(disease|positive) = p(positive|disease) * p(disease)/p(positive)\n",
    "p_dp = 0.95 * 0.001/((.95*0.001)+(0.1*0.999))\n",
    "print(p_dp)"
   ]
  },
  {
   "cell_type": "markdown",
   "metadata": {},
   "source": [
    "# Scenario: Factory Defects and Machine Reliability\n",
    "A factory has three machines (A, B, and C) that produce widgets. The percentage of the total widgets each machine produces and their defect rates are as follows:\n",
    "\n",
    "Machine A: Produces 50% of the widgets, with a defect rate of 2%.\n",
    "Machine B: Produces 30% of the widgets, with a defect rate of 5%.\n",
    "Machine C: Produces 20% of the widgets, with a defect rate of 10%.\n",
    "You randomly select a widget, and it turns out to be defective.\n",
    "\n",
    "Question: What is the probability that the defective widget came from Machine C?"
   ]
  },
  {
   "cell_type": "code",
   "execution_count": null,
   "metadata": {},
   "outputs": [],
   "source": []
  }
 ],
 "metadata": {
  "kernelspec": {
   "display_name": ".venv",
   "language": "python",
   "name": "python3"
  },
  "language_info": {
   "codemirror_mode": {
    "name": "ipython",
    "version": 3
   },
   "file_extension": ".py",
   "mimetype": "text/x-python",
   "name": "python",
   "nbconvert_exporter": "python",
   "pygments_lexer": "ipython3",
   "version": "3.10.13"
  }
 },
 "nbformat": 4,
 "nbformat_minor": 2
}
