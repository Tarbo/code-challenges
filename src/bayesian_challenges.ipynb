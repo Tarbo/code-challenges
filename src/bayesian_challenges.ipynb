{
 "cells": [
  {
   "cell_type": "code",
   "execution_count": 3,
   "metadata": {},
   "outputs": [
    {
     "name": "stdout",
     "output_type": "stream",
     "text": [
      "0.009419930589985125\n"
     ]
    }
   ],
   "source": [
    "# P(disease|positive) = p(positive|disease) * p(disease)/p(positive)\n",
    "p_dp = 0.95 * 0.001/((.95*0.001)+(0.1*0.999))\n",
    "print(p_dp)"
   ]
  },
  {
   "cell_type": "markdown",
   "metadata": {},
   "source": [
    "# Scenario 1: Factory Defects and Machine Reliability\n",
    "A factory has three machines (A, B, and C) that produce widgets. The percentage of the total widgets each machine produces and their defect rates are as follows:\n",
    "\n",
    "Machine A: Produces 50% of the widgets, with a defect rate of 2%.\n",
    "Machine B: Produces 30% of the widgets, with a defect rate of 5%.\n",
    "Machine C: Produces 20% of the widgets, with a defect rate of 10%.\n",
    "You randomly select a widget, and it turns out to be defective.\n",
    "\n",
    "Question: What is the probability that the defective widget came from Machine C?"
   ]
  },
  {
   "cell_type": "code",
   "execution_count": 7,
   "metadata": {},
   "outputs": [
    {
     "name": "stdout",
     "output_type": "stream",
     "text": [
      "0.4444444444444445\n"
     ]
    }
   ],
   "source": [
    "# P(machine C | defective) = p(defective|machine C) * p(machine C)/p(defective)\n",
    "# p(defective) = (2% * 50%) + (5% * 30%) + (10% * 20%)\n",
    "# p(defective|machine C) = 0.1\n",
    "# p(machine C) = 0.2\n",
    "p_defective = (0.02 * 0.5) + (0.05 * 0.3) + (0.1 * 0.2)\n",
    "p_defective_given_machine_C = 0.1\n",
    "p_machine_C = 0.2\n",
    "\n",
    "p_machine_C_given_defective = p_defective_given_machine_C * p_machine_C / p_defective\n",
    "print(p_machine_C_given_defective)"
   ]
  },
  {
   "cell_type": "markdown",
   "metadata": {},
   "source": [
    "# Scenario 2: Medical Test for a Genetic Disorder\n",
    "A medical test is used to screen for a rare genetic disorder that affects 1 in 10,000 people in the population. The test has the following characteristics:\n",
    "\n",
    "Sensitivity (True Positive Rate): 99% (i.e., the test correctly identifies 99% of those with the disorder).\n",
    "Specificity (True Negative Rate): 98% (i.e., the test correctly identifies 98% of those without the disorder).\n",
    "You take the test, and it comes back positive.\n",
    "\n",
    "Question: What is the probability that you actually have the genetic disorder?"
   ]
  },
  {
   "cell_type": "code",
   "execution_count": 4,
   "metadata": {},
   "outputs": [
    {
     "name": "stdout",
     "output_type": "stream",
     "text": [
      "0.0049261083743842365\n"
     ]
    }
   ],
   "source": [
    "# P(Disease|Positive) = (P(Positive|Disease) * P(Disease)) / P(Positive)\n",
    "# P(Positive) = P(Positive|Disease) * P(Disease) + P(Positive|No Disease) * P(No Disease)\n",
    "# P(Positive|Disease) = 0.99\n",
    "# P(Disease) = 0.0001\n",
    "# P(Positive|No Disease) = 0.01\n",
    "# P(No Disease) = 0.9999\n",
    "p_positive_given_disease = 0.99\n",
    "p_disease = 0.0001\n",
    "p_positive_given_no_disease = 0.02\n",
    "p_no_disease = 0.9999\n",
    "\n",
    "p_positive = (p_positive_given_disease * p_disease) + (p_positive_given_no_disease * p_no_disease)\n",
    "p_disease_given_positive = (p_positive_given_disease * p_disease) / p_positive\n",
    "print(p_disease_given_positive)"
   ]
  },
  {
   "cell_type": "code",
   "execution_count": null,
   "metadata": {},
   "outputs": [],
   "source": []
  }
 ],
 "metadata": {
  "kernelspec": {
   "display_name": ".venv",
   "language": "python",
   "name": "python3"
  },
  "language_info": {
   "codemirror_mode": {
    "name": "ipython",
    "version": 3
   },
   "file_extension": ".py",
   "mimetype": "text/x-python",
   "name": "python",
   "nbconvert_exporter": "python",
   "pygments_lexer": "ipython3",
   "version": "3.10.13"
  }
 },
 "nbformat": 4,
 "nbformat_minor": 2
}
